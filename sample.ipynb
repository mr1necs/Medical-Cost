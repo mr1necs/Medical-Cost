{
 "cells": [
  {
   "metadata": {
    "ExecuteTime": {
     "end_time": "2024-11-14T18:23:02.825498Z",
     "start_time": "2024-11-14T18:23:02.813481Z"
    }
   },
   "cell_type": "code",
   "source": [
    "from sklearn.preprocessing import PolynomialFeatures\n",
    "from sklearn.model_selection import train_test_split \n",
    "from sklearn.decomposition import PCA\n",
    "import pandas as pd\n",
    "import numpy as np\n",
    "from sklearn.metrics import mean_absolute_error, mean_squared_error, r2_score"
   ],
   "id": "fbc121e30a2defb3",
   "outputs": [],
   "execution_count": 16
  },
  {
   "metadata": {},
   "cell_type": "markdown",
   "source": "##### Загружаем датасет",
   "id": "75b1aefc2eecaf95"
  },
  {
   "metadata": {
    "ExecuteTime": {
     "end_time": "2024-11-14T18:23:02.874308Z",
     "start_time": "2024-11-14T18:23:02.861591Z"
    }
   },
   "cell_type": "code",
   "source": [
    "df = pd.read_csv('data/insurance.csv')\n",
    "df.head()"
   ],
   "id": "65a1215207bea6be",
   "outputs": [
    {
     "data": {
      "text/plain": [
       "   age     sex     bmi  children smoker     region      charges\n",
       "0   19  female  27.900         0    yes  southwest  16884.92400\n",
       "1   18    male  33.770         1     no  southeast   1725.55230\n",
       "2   28    male  33.000         3     no  southeast   4449.46200\n",
       "3   33    male  22.705         0     no  northwest  21984.47061\n",
       "4   32    male  28.880         0     no  northwest   3866.85520"
      ],
      "text/html": [
       "<div>\n",
       "<style scoped>\n",
       "    .dataframe tbody tr th:only-of-type {\n",
       "        vertical-align: middle;\n",
       "    }\n",
       "\n",
       "    .dataframe tbody tr th {\n",
       "        vertical-align: top;\n",
       "    }\n",
       "\n",
       "    .dataframe thead th {\n",
       "        text-align: right;\n",
       "    }\n",
       "</style>\n",
       "<table border=\"1\" class=\"dataframe\">\n",
       "  <thead>\n",
       "    <tr style=\"text-align: right;\">\n",
       "      <th></th>\n",
       "      <th>age</th>\n",
       "      <th>sex</th>\n",
       "      <th>bmi</th>\n",
       "      <th>children</th>\n",
       "      <th>smoker</th>\n",
       "      <th>region</th>\n",
       "      <th>charges</th>\n",
       "    </tr>\n",
       "  </thead>\n",
       "  <tbody>\n",
       "    <tr>\n",
       "      <th>0</th>\n",
       "      <td>19</td>\n",
       "      <td>female</td>\n",
       "      <td>27.900</td>\n",
       "      <td>0</td>\n",
       "      <td>yes</td>\n",
       "      <td>southwest</td>\n",
       "      <td>16884.92400</td>\n",
       "    </tr>\n",
       "    <tr>\n",
       "      <th>1</th>\n",
       "      <td>18</td>\n",
       "      <td>male</td>\n",
       "      <td>33.770</td>\n",
       "      <td>1</td>\n",
       "      <td>no</td>\n",
       "      <td>southeast</td>\n",
       "      <td>1725.55230</td>\n",
       "    </tr>\n",
       "    <tr>\n",
       "      <th>2</th>\n",
       "      <td>28</td>\n",
       "      <td>male</td>\n",
       "      <td>33.000</td>\n",
       "      <td>3</td>\n",
       "      <td>no</td>\n",
       "      <td>southeast</td>\n",
       "      <td>4449.46200</td>\n",
       "    </tr>\n",
       "    <tr>\n",
       "      <th>3</th>\n",
       "      <td>33</td>\n",
       "      <td>male</td>\n",
       "      <td>22.705</td>\n",
       "      <td>0</td>\n",
       "      <td>no</td>\n",
       "      <td>northwest</td>\n",
       "      <td>21984.47061</td>\n",
       "    </tr>\n",
       "    <tr>\n",
       "      <th>4</th>\n",
       "      <td>32</td>\n",
       "      <td>male</td>\n",
       "      <td>28.880</td>\n",
       "      <td>0</td>\n",
       "      <td>no</td>\n",
       "      <td>northwest</td>\n",
       "      <td>3866.85520</td>\n",
       "    </tr>\n",
       "  </tbody>\n",
       "</table>\n",
       "</div>"
      ]
     },
     "execution_count": 17,
     "metadata": {},
     "output_type": "execute_result"
    }
   ],
   "execution_count": 17
  },
  {
   "metadata": {},
   "cell_type": "markdown",
   "source": "##### Проверяем на наличие пропусков и типы данные ",
   "id": "6d8302196915e4c5"
  },
  {
   "metadata": {
    "ExecuteTime": {
     "end_time": "2024-11-14T18:23:02.906149Z",
     "start_time": "2024-11-14T18:23:02.895002Z"
    }
   },
   "cell_type": "code",
   "source": "df.info()",
   "id": "cf06a57444c53414",
   "outputs": [
    {
     "name": "stdout",
     "output_type": "stream",
     "text": [
      "<class 'pandas.core.frame.DataFrame'>\n",
      "RangeIndex: 1338 entries, 0 to 1337\n",
      "Data columns (total 7 columns):\n",
      " #   Column    Non-Null Count  Dtype  \n",
      "---  ------    --------------  -----  \n",
      " 0   age       1338 non-null   int64  \n",
      " 1   sex       1338 non-null   object \n",
      " 2   bmi       1338 non-null   float64\n",
      " 3   children  1338 non-null   int64  \n",
      " 4   smoker    1338 non-null   object \n",
      " 5   region    1338 non-null   object \n",
      " 6   charges   1338 non-null   float64\n",
      "dtypes: float64(2), int64(2), object(3)\n",
      "memory usage: 73.3+ KB\n"
     ]
    }
   ],
   "execution_count": 18
  },
  {
   "metadata": {},
   "cell_type": "markdown",
   "source": "##### Разделение признаков и целевой переменной",
   "id": "edc8c1f1c4252caf"
  },
  {
   "metadata": {
    "ExecuteTime": {
     "end_time": "2024-11-14T18:23:02.983908Z",
     "start_time": "2024-11-14T18:23:02.980773Z"
    }
   },
   "cell_type": "code",
   "source": [
    "x = df.drop(['charges'], axis=1)\n",
    "y = df['charges'].values"
   ],
   "id": "18e86238ad6f3360",
   "outputs": [],
   "execution_count": 19
  },
  {
   "metadata": {},
   "cell_type": "markdown",
   "source": "##### Преобразование категориальных признаков в числовые значения и нормализация числовых признаков",
   "id": "c1ae8dd155e436ab"
  },
  {
   "metadata": {
    "ExecuteTime": {
     "end_time": "2024-11-14T18:23:03.049769Z",
     "start_time": "2024-11-14T18:23:03.041026Z"
    }
   },
   "cell_type": "code",
   "source": [
    "x['sex'] = x['sex'].map({'male': 0, 'female': 1})\n",
    "x['smoker'] = x['smoker'].map({'yes': 1, 'no': 0})\n",
    "x['region'] = x['region'].map({'southwest': 0, 'southeast': 1, 'northwest': 2, 'northeast': 3})\n",
    "\n",
    "for feature in ['age', 'bmi', 'children', 'region']:\n",
    "    x[feature] = (x[feature] - x[feature].mean()) / x[feature].std()\n",
    "    \n",
    "x.head()"
   ],
   "id": "325e5f0962337125",
   "outputs": [
    {
     "data": {
      "text/plain": [
       "        age  sex       bmi  children  smoker    region\n",
       "0 -1.438227    1 -0.453151 -0.908274       1 -1.343402\n",
       "1 -1.509401    0  0.509431 -0.078738       0 -0.438331\n",
       "2 -0.797655    0  0.383164  1.580335       0 -0.438331\n",
       "3 -0.441782    0 -1.305043 -0.908274       0  0.466741\n",
       "4 -0.512957    0 -0.292447 -0.908274       0  0.466741"
      ],
      "text/html": [
       "<div>\n",
       "<style scoped>\n",
       "    .dataframe tbody tr th:only-of-type {\n",
       "        vertical-align: middle;\n",
       "    }\n",
       "\n",
       "    .dataframe tbody tr th {\n",
       "        vertical-align: top;\n",
       "    }\n",
       "\n",
       "    .dataframe thead th {\n",
       "        text-align: right;\n",
       "    }\n",
       "</style>\n",
       "<table border=\"1\" class=\"dataframe\">\n",
       "  <thead>\n",
       "    <tr style=\"text-align: right;\">\n",
       "      <th></th>\n",
       "      <th>age</th>\n",
       "      <th>sex</th>\n",
       "      <th>bmi</th>\n",
       "      <th>children</th>\n",
       "      <th>smoker</th>\n",
       "      <th>region</th>\n",
       "    </tr>\n",
       "  </thead>\n",
       "  <tbody>\n",
       "    <tr>\n",
       "      <th>0</th>\n",
       "      <td>-1.438227</td>\n",
       "      <td>1</td>\n",
       "      <td>-0.453151</td>\n",
       "      <td>-0.908274</td>\n",
       "      <td>1</td>\n",
       "      <td>-1.343402</td>\n",
       "    </tr>\n",
       "    <tr>\n",
       "      <th>1</th>\n",
       "      <td>-1.509401</td>\n",
       "      <td>0</td>\n",
       "      <td>0.509431</td>\n",
       "      <td>-0.078738</td>\n",
       "      <td>0</td>\n",
       "      <td>-0.438331</td>\n",
       "    </tr>\n",
       "    <tr>\n",
       "      <th>2</th>\n",
       "      <td>-0.797655</td>\n",
       "      <td>0</td>\n",
       "      <td>0.383164</td>\n",
       "      <td>1.580335</td>\n",
       "      <td>0</td>\n",
       "      <td>-0.438331</td>\n",
       "    </tr>\n",
       "    <tr>\n",
       "      <th>3</th>\n",
       "      <td>-0.441782</td>\n",
       "      <td>0</td>\n",
       "      <td>-1.305043</td>\n",
       "      <td>-0.908274</td>\n",
       "      <td>0</td>\n",
       "      <td>0.466741</td>\n",
       "    </tr>\n",
       "    <tr>\n",
       "      <th>4</th>\n",
       "      <td>-0.512957</td>\n",
       "      <td>0</td>\n",
       "      <td>-0.292447</td>\n",
       "      <td>-0.908274</td>\n",
       "      <td>0</td>\n",
       "      <td>0.466741</td>\n",
       "    </tr>\n",
       "  </tbody>\n",
       "</table>\n",
       "</div>"
      ]
     },
     "execution_count": 20,
     "metadata": {},
     "output_type": "execute_result"
    }
   ],
   "execution_count": 20
  },
  {
   "metadata": {},
   "cell_type": "markdown",
   "source": "##### Выполняем снижение размерности на основе МГК (мин уровень дисперсии 0.95)",
   "id": "e2efa53600d2b205"
  },
  {
   "metadata": {
    "ExecuteTime": {
     "end_time": "2024-11-14T18:23:03.088042Z",
     "start_time": "2024-11-14T18:23:03.081498Z"
    }
   },
   "cell_type": "code",
   "source": [
    "pca = PCA(n_components=0.98) # при 0.95 растет полиномиальная линейная модель \n",
    "x = pca.fit_transform(x)\n",
    "x_base = x"
   ],
   "id": "c2543144cb73694c",
   "outputs": [],
   "execution_count": 21
  },
  {
   "metadata": {},
   "cell_type": "markdown",
   "source": "##### Выполняем расширение базовых признаков за счет применения полиномиальной модели (степень = 3)",
   "id": "6cebc86e0364992c"
  },
  {
   "metadata": {
    "ExecuteTime": {
     "end_time": "2024-11-14T18:23:03.124470Z",
     "start_time": "2024-11-14T18:23:03.119087Z"
    }
   },
   "cell_type": "code",
   "source": [
    "poly = PolynomialFeatures(degree=3, include_bias=False)\n",
    "x_poly = poly.fit_transform(x_base)"
   ],
   "id": "38c4325126c0c602",
   "outputs": [],
   "execution_count": 22
  },
  {
   "metadata": {},
   "cell_type": "markdown",
   "source": "##### Разбиваем датасеты (базовый и расширенный) на 2 множества (обучающее и тестовое).",
   "id": "69b7b60ad6c6cd11"
  },
  {
   "metadata": {
    "ExecuteTime": {
     "end_time": "2024-11-14T18:23:03.175101Z",
     "start_time": "2024-11-14T18:23:03.169720Z"
    }
   },
   "cell_type": "code",
   "source": [
    "# Разделение базового набора данных на тренировочные и тестовые\n",
    "x_base_train, x_base_test, y_base_train, y_base_test = train_test_split(\n",
    "    x_base, y, test_size=0.3, shuffle=True\n",
    ")\n",
    "\n",
    "# Разделение расширенного набора данных на тренировочные и тестовые\n",
    "x_poly_train, x_poly_test, y_poly_train, y_poly_test = train_test_split(\n",
    "    x_poly, y, test_size=0.3, shuffle=True\n",
    ")"
   ],
   "id": "3b43bc91ef0aeb23",
   "outputs": [],
   "execution_count": 23
  },
  {
   "metadata": {},
   "cell_type": "markdown",
   "source": "##### Выполняем обучение линейной и полиномиальной моделей аналитическим методом - не используя готовое библиотечное решение.\n",
   "id": "fd27ff1a6ba0f3b5"
  },
  {
   "metadata": {
    "ExecuteTime": {
     "end_time": "2024-11-14T18:23:03.212134Z",
     "start_time": "2024-11-14T18:23:03.209308Z"
    }
   },
   "cell_type": "code",
   "source": [
    "def analytical_solution(x, y):\n",
    "    x = np.c_[np.ones(x.shape[0]), x] # Добавляем столбец единиц для учета интерсепта\n",
    "    theta = np.linalg.inv(x.T @ x) @ x.T @ y\n",
    "    return theta"
   ],
   "id": "ea7a251883e5769f",
   "outputs": [],
   "execution_count": 24
  },
  {
   "metadata": {
    "ExecuteTime": {
     "end_time": "2024-11-14T18:23:03.344564Z",
     "start_time": "2024-11-14T18:23:03.232204Z"
    }
   },
   "cell_type": "code",
   "source": [
    "# Обучение базовой модели\n",
    "linear_theta_base = analytical_solution(x_base_train, y_base_train)\n",
    "print(\"Коэффициенты базовой модели:\", linear_theta_base.flatten())\n",
    "\n",
    "# Обучение расширенной модели\n",
    "linear_theta_poly = analytical_solution(x_poly_train, y_poly_train)\n",
    "print(\"Коэффициенты расширенной модели:\", linear_theta_poly.flatten())"
   ],
   "id": "e297a15f4f77968c",
   "outputs": [
    {
     "name": "stdout",
     "output_type": "stream",
     "text": [
      "Коэффициенты базовой модели: [13273.66644566  2679.07061428  2243.79632889 -2029.37620018\n",
      "   306.15908485 -4039.93542611 23766.59550228]\n",
      "Коэффициенты расширенной модели: [ 4.43060249e+18 -1.20577236e+18  1.35454910e+18  5.89567866e+18\n",
      " -1.52558077e+16  3.27852073e+17 -7.68218989e+17 -9.70194799e+14\n",
      "  8.23629103e+15 -2.94223652e+16 -2.86794590e+16  6.78130226e+17\n",
      " -8.64576490e+17  2.96290891e+15 -1.83509899e+16 -2.51829506e+15\n",
      " -1.83982266e+16 -8.06928790e+17  2.66731752e+16  8.98925039e+15\n",
      "  1.36498911e+17  3.54464276e+18 -2.39974562e+16  1.31602539e+18\n",
      "  2.52355791e+17 -1.80259829e+19 -6.60464178e+18  8.13613057e+17\n",
      "  8.75045525e+14 -2.05674942e+15 -3.08219240e+15  4.00963629e+15\n",
      " -1.10691168e+17 -2.80840531e+16  1.30170753e+15 -7.70342097e+13\n",
      " -8.62909828e+15  2.33776294e+17  1.87879374e+16 -7.19548210e+15\n",
      " -1.71706218e+16  4.76761832e+17  1.46007471e+17  5.04566072e+15\n",
      " -2.72431139e+17 -1.29759508e+16  3.69639745e+18  7.07509442e+17\n",
      "  1.68339605e+18 -1.94100202e+14  1.43240308e+14  2.54030973e+15\n",
      " -7.06859136e+16 -2.30203398e+16  2.61487922e+15  2.82297044e+15\n",
      " -6.91638411e+16  6.24590576e+16 -7.98274200e+15  4.39708927e+17\n",
      "  1.02081908e+17 -6.03873432e+18 -2.50522486e+18  1.10969654e+18\n",
      " -4.41811641e+15 -2.11085777e+16  5.65100342e+17 -1.74908577e+16\n",
      " -2.63016928e+16  1.42598124e+18  1.22692050e+17 -1.93970468e+19\n",
      " -4.62358903e+18 -6.22814738e+18 -1.22347599e+03 -6.57640719e+03\n",
      "  5.49930244e+03  7.87085466e+04 -8.19204357e+04  2.50218605e+05\n",
      "  3.13607579e+04  4.22799582e+05 -6.41822127e+03 -1.08595220e+05]\n"
     ]
    }
   ],
   "execution_count": 25
  },
  {
   "metadata": {},
   "cell_type": "markdown",
   "source": "##### Выполняем обучение линейной и полиномиальной моделей градиентным спуском - не используя готовое библиотечное решение.\n",
   "id": "6dbdd7a8bcb4a4df"
  },
  {
   "metadata": {
    "ExecuteTime": {
     "end_time": "2024-11-14T18:23:03.392322Z",
     "start_time": "2024-11-14T18:23:03.387803Z"
    }
   },
   "cell_type": "code",
   "source": [
    "def gradient_descent(x, y, learning_rate=0.01, iterations=1000):\n",
    "    m, n = x.shape\n",
    "    x = np.c_[np.ones(m), x]  # Добавляем столбец единиц для интерсепта\n",
    "    theta = np.zeros((n + 1,))  # Инициализация коэффициентов\n",
    "    for i in range(iterations):\n",
    "        predictions = x @ theta\n",
    "        error = predictions - y\n",
    "        theta -= (learning_rate / m) * (x.T @ error)\n",
    "    return theta"
   ],
   "id": "4e399c46f63c1c83",
   "outputs": [],
   "execution_count": 26
  },
  {
   "metadata": {
    "ExecuteTime": {
     "end_time": "2024-11-14T18:23:13.118814Z",
     "start_time": "2024-11-14T18:23:03.416975Z"
    }
   },
   "cell_type": "code",
   "source": [
    "# Обучение базовой модели\n",
    "gradient_theta_base = gradient_descent(x_base_train, y_base_train, learning_rate=0.0001, iterations=100000)\n",
    "print(\"Коэффициенты базовой модели:\", gradient_theta_base.flatten())\n",
    "\n",
    "# Обучение расширенной модели\n",
    "gradient_theta_poly = gradient_descent(x_poly_train, y_poly_train, learning_rate=0.0001, iterations=100000)\n",
    "print(\"Коэффициенты расширенной модели:\", gradient_theta_poly.flatten())"
   ],
   "id": "b6cca9b4ad0cf91b",
   "outputs": [
    {
     "name": "stdout",
     "output_type": "stream",
     "text": [
      "Коэффициенты базовой модели: [13273.90033759  2635.5185428   2254.57159429 -1992.80966341\n",
      "   341.43309367 -3655.49649674 18980.6917166 ]\n",
      "Коэффициенты расширенной модели: [ 8.75488684e+03  1.76615524e+03  1.49554503e+03 -1.47510937e+03\n",
      "  3.92600965e+02 -1.31796459e+03  6.46947304e+03  5.13010067e+02\n",
      "  2.98280884e+02  2.71890500e+01 -6.79183552e+02 -1.24829914e+03\n",
      "  3.82005905e+03  8.41558269e+02  5.08031338e+02  3.56703042e+02\n",
      "  1.74855078e+02 -2.08486085e+03  7.95127816e+02  8.94073804e+02\n",
      "  1.78344560e+02 -1.15167074e+03  1.05186475e+03 -5.59040090e+02\n",
      "  3.25590227e+03  2.49183581e+03 -1.17643985e+03  4.95096271e+03\n",
      "  1.08732148e+02  3.85208388e+02  6.38015637e+00 -3.29972934e+02\n",
      " -4.82514942e+02  2.38102811e+03  5.19657737e+02 -1.71544533e+01\n",
      " -8.65113649e+02  1.53919511e+02 -3.41995426e+01 -1.93573294e+02\n",
      "  2.01286657e+02 -4.96428885e+02  6.56705969e+02 -7.96181952e+02\n",
      " -1.96257638e+02 -1.19498706e+03  5.66023367e+02 -6.82427402e+02\n",
      "  2.48018804e+03  2.26073561e+01 -4.24878143e+02 -2.75117581e+02\n",
      " -6.25211582e+02  2.74589558e+03 -1.26625665e+02 -6.44927321e+02\n",
      "  3.49652366e+02  3.46255184e+02  5.76161816e+02 -9.10627883e+01\n",
      "  3.17896759e+02  3.67776421e+02  1.73765182e+02 -9.54074617e+02\n",
      " -8.68251266e+01  1.49379293e+02  3.49767427e+01  2.60468174e+03\n",
      " -5.68207837e+01 -9.10993237e+01 -2.92974466e+02 -3.87361979e+02\n",
      "  5.97940705e+01 -9.53212524e+02  1.36263067e+02  3.49930615e-02\n",
      "  2.54369190e+03  7.78740275e+01 -5.57107769e+01  2.01273711e+03\n",
      " -8.89311960e+02  1.74728441e+03 -5.65247845e+02  3.92213138e+03]\n"
     ]
    }
   ],
   "execution_count": 27
  },
  {
   "metadata": {
    "ExecuteTime": {
     "end_time": "2024-11-14T18:23:13.159927Z",
     "start_time": "2024-11-14T18:23:13.142885Z"
    }
   },
   "cell_type": "code",
   "source": [
    "def predict(x, theta):\n",
    "    x = np.c_[np.ones(x.shape[0]), x]  # Добавляем столбец единиц для интерсепта, если его нет\n",
    "    return x @ theta\n",
    "\n",
    "# Предсказания для базовой модели\n",
    "y_base_pred_linear = predict(x_base_test, linear_theta_base)\n",
    "y_base_pred_gradient = predict(x_base_test, gradient_theta_base)\n",
    "\n",
    "# Предсказания для полиномиальной модели\n",
    "y_poly_pred_linear = predict(x_poly_test, linear_theta_poly)\n",
    "y_poly_pred_gradient = predict(x_poly_test, gradient_theta_poly)\n",
    "\n",
    "print(\"Метрики для базовой модели (Linear):\")\n",
    "print(f\"MAE : {mean_absolute_error(y_base_test, y_base_pred_linear):.3f}\")\n",
    "print(f\"MSE : {mean_squared_error(y_base_test, y_base_pred_linear):.3f}\")\n",
    "print(f\"R²  : {r2_score(y_base_test, y_base_pred_linear):.3f}\")\n",
    "\n",
    "print(\"\\nМетрики для полиномиальной модели (Linear):\")\n",
    "print(f\"MAE : {mean_absolute_error(y_poly_test, y_poly_pred_linear):.3f}\")\n",
    "print(f\"MSE : {mean_squared_error(y_poly_test, y_poly_pred_linear):.3f}\")\n",
    "print(f\"R²  : {r2_score(y_poly_test, y_poly_pred_linear):.3f}\")\n",
    "\n",
    "print(\"\\nМетрики для базовой модели (Gradient):\")\n",
    "print(f\"MAE : {mean_absolute_error(y_base_test, y_base_pred_gradient):.3f}\")\n",
    "print(f\"MSE : {mean_squared_error(y_base_test, y_base_pred_gradient):.3f}\")\n",
    "print(f\"R²  : {r2_score(y_base_test, y_base_pred_gradient):.3f}\")\n",
    "\n",
    "print(\"\\nМетрики для полиномиальной модели (Gradient):\")\n",
    "print(f\"MAE : {mean_absolute_error(y_poly_test, y_poly_pred_gradient):.3f}\")\n",
    "print(f\"MSE : {mean_squared_error(y_poly_test, y_poly_pred_gradient):.3f}\")\n",
    "print(f\"R²  : {r2_score(y_poly_test, y_poly_pred_gradient):.3f}\")"
   ],
   "id": "34a485cfcc03c02f",
   "outputs": [
    {
     "name": "stdout",
     "output_type": "stream",
     "text": [
      "Метрики для базовой модели (Linear):\n",
      "MAE : 4110.172\n",
      "MSE : 36471308.391\n",
      "R²  : 0.745\n",
      "\n",
      "Метрики для полиномиальной модели (Linear):\n",
      "MAE : 97425.276\n",
      "MSE : 10984237772.928\n",
      "R²  : -64.875\n",
      "\n",
      "Метрики для базовой модели (Gradient):\n",
      "MAE : 4536.139\n",
      "MSE : 38860730.234\n",
      "R²  : 0.729\n",
      "\n",
      "Метрики для полиномиальной модели (Gradient):\n",
      "MAE : 3502.807\n",
      "MSE : 31297840.393\n",
      "R²  : 0.812\n"
     ]
    }
   ],
   "execution_count": 28
  }
 ],
 "metadata": {
  "kernelspec": {
   "display_name": "Python 3",
   "language": "python",
   "name": "python3"
  },
  "language_info": {
   "codemirror_mode": {
    "name": "ipython",
    "version": 2
   },
   "file_extension": ".py",
   "mimetype": "text/x-python",
   "name": "python",
   "nbconvert_exporter": "python",
   "pygments_lexer": "ipython2",
   "version": "2.7.6"
  }
 },
 "nbformat": 4,
 "nbformat_minor": 5
}
