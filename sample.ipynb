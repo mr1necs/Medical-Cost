{
 "cells": [
  {
   "metadata": {
    "ExecuteTime": {
     "end_time": "2024-11-14T17:55:59.477719Z",
     "start_time": "2024-11-14T17:55:59.474085Z"
    }
   },
   "cell_type": "code",
   "source": [
    "from sklearn.preprocessing import PolynomialFeatures\n",
    "from sklearn.model_selection import train_test_split \n",
    "from sklearn.decomposition import PCA\n",
    "import pandas as pd\n",
    "import numpy as np\n",
    "from sklearn.metrics import mean_absolute_error, mean_squared_error, r2_score"
   ],
   "id": "fbc121e30a2defb3",
   "outputs": [],
   "execution_count": 3
  },
  {
   "metadata": {},
   "cell_type": "markdown",
   "source": "##### Загружаем датасет",
   "id": "75b1aefc2eecaf95"
  },
  {
   "metadata": {
    "ExecuteTime": {
     "end_time": "2024-11-14T17:56:00.785565Z",
     "start_time": "2024-11-14T17:56:00.772136Z"
    }
   },
   "cell_type": "code",
   "source": [
    "df = pd.read_csv('data/insurance.csv')\n",
    "df.head()"
   ],
   "id": "65a1215207bea6be",
   "outputs": [
    {
     "data": {
      "text/plain": [
       "   age     sex     bmi  children smoker     region      charges\n",
       "0   19  female  27.900         0    yes  southwest  16884.92400\n",
       "1   18    male  33.770         1     no  southeast   1725.55230\n",
       "2   28    male  33.000         3     no  southeast   4449.46200\n",
       "3   33    male  22.705         0     no  northwest  21984.47061\n",
       "4   32    male  28.880         0     no  northwest   3866.85520"
      ],
      "text/html": [
       "<div>\n",
       "<style scoped>\n",
       "    .dataframe tbody tr th:only-of-type {\n",
       "        vertical-align: middle;\n",
       "    }\n",
       "\n",
       "    .dataframe tbody tr th {\n",
       "        vertical-align: top;\n",
       "    }\n",
       "\n",
       "    .dataframe thead th {\n",
       "        text-align: right;\n",
       "    }\n",
       "</style>\n",
       "<table border=\"1\" class=\"dataframe\">\n",
       "  <thead>\n",
       "    <tr style=\"text-align: right;\">\n",
       "      <th></th>\n",
       "      <th>age</th>\n",
       "      <th>sex</th>\n",
       "      <th>bmi</th>\n",
       "      <th>children</th>\n",
       "      <th>smoker</th>\n",
       "      <th>region</th>\n",
       "      <th>charges</th>\n",
       "    </tr>\n",
       "  </thead>\n",
       "  <tbody>\n",
       "    <tr>\n",
       "      <th>0</th>\n",
       "      <td>19</td>\n",
       "      <td>female</td>\n",
       "      <td>27.900</td>\n",
       "      <td>0</td>\n",
       "      <td>yes</td>\n",
       "      <td>southwest</td>\n",
       "      <td>16884.92400</td>\n",
       "    </tr>\n",
       "    <tr>\n",
       "      <th>1</th>\n",
       "      <td>18</td>\n",
       "      <td>male</td>\n",
       "      <td>33.770</td>\n",
       "      <td>1</td>\n",
       "      <td>no</td>\n",
       "      <td>southeast</td>\n",
       "      <td>1725.55230</td>\n",
       "    </tr>\n",
       "    <tr>\n",
       "      <th>2</th>\n",
       "      <td>28</td>\n",
       "      <td>male</td>\n",
       "      <td>33.000</td>\n",
       "      <td>3</td>\n",
       "      <td>no</td>\n",
       "      <td>southeast</td>\n",
       "      <td>4449.46200</td>\n",
       "    </tr>\n",
       "    <tr>\n",
       "      <th>3</th>\n",
       "      <td>33</td>\n",
       "      <td>male</td>\n",
       "      <td>22.705</td>\n",
       "      <td>0</td>\n",
       "      <td>no</td>\n",
       "      <td>northwest</td>\n",
       "      <td>21984.47061</td>\n",
       "    </tr>\n",
       "    <tr>\n",
       "      <th>4</th>\n",
       "      <td>32</td>\n",
       "      <td>male</td>\n",
       "      <td>28.880</td>\n",
       "      <td>0</td>\n",
       "      <td>no</td>\n",
       "      <td>northwest</td>\n",
       "      <td>3866.85520</td>\n",
       "    </tr>\n",
       "  </tbody>\n",
       "</table>\n",
       "</div>"
      ]
     },
     "execution_count": 4,
     "metadata": {},
     "output_type": "execute_result"
    }
   ],
   "execution_count": 4
  },
  {
   "metadata": {},
   "cell_type": "markdown",
   "source": "##### Проверяем на наличие пропусков и типы данные ",
   "id": "6d8302196915e4c5"
  },
  {
   "metadata": {
    "ExecuteTime": {
     "end_time": "2024-11-14T17:56:01.810913Z",
     "start_time": "2024-11-14T17:56:01.796816Z"
    }
   },
   "cell_type": "code",
   "source": "df.info()",
   "id": "cf06a57444c53414",
   "outputs": [
    {
     "name": "stdout",
     "output_type": "stream",
     "text": [
      "<class 'pandas.core.frame.DataFrame'>\n",
      "RangeIndex: 1338 entries, 0 to 1337\n",
      "Data columns (total 7 columns):\n",
      " #   Column    Non-Null Count  Dtype  \n",
      "---  ------    --------------  -----  \n",
      " 0   age       1338 non-null   int64  \n",
      " 1   sex       1338 non-null   object \n",
      " 2   bmi       1338 non-null   float64\n",
      " 3   children  1338 non-null   int64  \n",
      " 4   smoker    1338 non-null   object \n",
      " 5   region    1338 non-null   object \n",
      " 6   charges   1338 non-null   float64\n",
      "dtypes: float64(2), int64(2), object(3)\n",
      "memory usage: 73.3+ KB\n"
     ]
    }
   ],
   "execution_count": 5
  },
  {
   "metadata": {},
   "cell_type": "markdown",
   "source": "##### Разделение признаков и целевой переменной",
   "id": "edc8c1f1c4252caf"
  },
  {
   "metadata": {
    "ExecuteTime": {
     "end_time": "2024-11-14T17:56:02.662183Z",
     "start_time": "2024-11-14T17:56:02.656600Z"
    }
   },
   "cell_type": "code",
   "source": [
    "x = df.drop(['charges'], axis=1)\n",
    "y = df['charges'].values"
   ],
   "id": "18e86238ad6f3360",
   "outputs": [],
   "execution_count": 6
  },
  {
   "metadata": {},
   "cell_type": "markdown",
   "source": "##### Преобразование категориальных признаков в числовые значения и нормализация числовых признаков",
   "id": "c1ae8dd155e436ab"
  },
  {
   "metadata": {
    "ExecuteTime": {
     "end_time": "2024-11-14T17:56:03.995669Z",
     "start_time": "2024-11-14T17:56:03.986215Z"
    }
   },
   "cell_type": "code",
   "source": [
    "x['sex'] = x['sex'].map({'male': 0, 'female': 1})\n",
    "x['smoker'] = x['smoker'].map({'yes': 1, 'no': 0})\n",
    "x['region'] = x['region'].map({'southwest': 0, 'southeast': 1, 'northwest': 2, 'northeast': 3})\n",
    "\n",
    "for feature in ['age', 'bmi', 'children', 'region']:\n",
    "    x[feature] = (x[feature] - x[feature].mean()) / x[feature].std()\n",
    "    \n",
    "x.head()"
   ],
   "id": "325e5f0962337125",
   "outputs": [
    {
     "data": {
      "text/plain": [
       "        age  sex       bmi  children  smoker    region\n",
       "0 -1.438227    1 -0.453151 -0.908274       1 -1.343402\n",
       "1 -1.509401    0  0.509431 -0.078738       0 -0.438331\n",
       "2 -0.797655    0  0.383164  1.580335       0 -0.438331\n",
       "3 -0.441782    0 -1.305043 -0.908274       0  0.466741\n",
       "4 -0.512957    0 -0.292447 -0.908274       0  0.466741"
      ],
      "text/html": [
       "<div>\n",
       "<style scoped>\n",
       "    .dataframe tbody tr th:only-of-type {\n",
       "        vertical-align: middle;\n",
       "    }\n",
       "\n",
       "    .dataframe tbody tr th {\n",
       "        vertical-align: top;\n",
       "    }\n",
       "\n",
       "    .dataframe thead th {\n",
       "        text-align: right;\n",
       "    }\n",
       "</style>\n",
       "<table border=\"1\" class=\"dataframe\">\n",
       "  <thead>\n",
       "    <tr style=\"text-align: right;\">\n",
       "      <th></th>\n",
       "      <th>age</th>\n",
       "      <th>sex</th>\n",
       "      <th>bmi</th>\n",
       "      <th>children</th>\n",
       "      <th>smoker</th>\n",
       "      <th>region</th>\n",
       "    </tr>\n",
       "  </thead>\n",
       "  <tbody>\n",
       "    <tr>\n",
       "      <th>0</th>\n",
       "      <td>-1.438227</td>\n",
       "      <td>1</td>\n",
       "      <td>-0.453151</td>\n",
       "      <td>-0.908274</td>\n",
       "      <td>1</td>\n",
       "      <td>-1.343402</td>\n",
       "    </tr>\n",
       "    <tr>\n",
       "      <th>1</th>\n",
       "      <td>-1.509401</td>\n",
       "      <td>0</td>\n",
       "      <td>0.509431</td>\n",
       "      <td>-0.078738</td>\n",
       "      <td>0</td>\n",
       "      <td>-0.438331</td>\n",
       "    </tr>\n",
       "    <tr>\n",
       "      <th>2</th>\n",
       "      <td>-0.797655</td>\n",
       "      <td>0</td>\n",
       "      <td>0.383164</td>\n",
       "      <td>1.580335</td>\n",
       "      <td>0</td>\n",
       "      <td>-0.438331</td>\n",
       "    </tr>\n",
       "    <tr>\n",
       "      <th>3</th>\n",
       "      <td>-0.441782</td>\n",
       "      <td>0</td>\n",
       "      <td>-1.305043</td>\n",
       "      <td>-0.908274</td>\n",
       "      <td>0</td>\n",
       "      <td>0.466741</td>\n",
       "    </tr>\n",
       "    <tr>\n",
       "      <th>4</th>\n",
       "      <td>-0.512957</td>\n",
       "      <td>0</td>\n",
       "      <td>-0.292447</td>\n",
       "      <td>-0.908274</td>\n",
       "      <td>0</td>\n",
       "      <td>0.466741</td>\n",
       "    </tr>\n",
       "  </tbody>\n",
       "</table>\n",
       "</div>"
      ]
     },
     "execution_count": 7,
     "metadata": {},
     "output_type": "execute_result"
    }
   ],
   "execution_count": 7
  },
  {
   "metadata": {},
   "cell_type": "markdown",
   "source": "##### Выполняем снижение размерности на основе МГК (мин уровень дисперсии 0.95)",
   "id": "e2efa53600d2b205"
  },
  {
   "metadata": {
    "ExecuteTime": {
     "end_time": "2024-11-14T17:56:05.663523Z",
     "start_time": "2024-11-14T17:56:05.639224Z"
    }
   },
   "cell_type": "code",
   "source": [
    "pca = PCA(n_components=0.98) # при 0.95 растет полиномиальная линейная модель \n",
    "x = pca.fit_transform(x)\n",
    "x_base = x"
   ],
   "id": "c2543144cb73694c",
   "outputs": [],
   "execution_count": 8
  },
  {
   "metadata": {},
   "cell_type": "markdown",
   "source": "##### Выполняем расширение базовых признаков за счет применения полиномиальной модели (степень = 3)",
   "id": "6cebc86e0364992c"
  },
  {
   "metadata": {
    "ExecuteTime": {
     "end_time": "2024-11-14T17:56:07.453711Z",
     "start_time": "2024-11-14T17:56:07.447602Z"
    }
   },
   "cell_type": "code",
   "source": [
    "poly = PolynomialFeatures(degree=3, include_bias=False)\n",
    "x_poly = poly.fit_transform(x_base)"
   ],
   "id": "38c4325126c0c602",
   "outputs": [],
   "execution_count": 9
  },
  {
   "metadata": {},
   "cell_type": "markdown",
   "source": "##### Разбиваем датасеты (базовый и расширенный) на 2 множества (обучающее и тестовое).",
   "id": "69b7b60ad6c6cd11"
  },
  {
   "metadata": {
    "ExecuteTime": {
     "end_time": "2024-11-14T17:56:09.555386Z",
     "start_time": "2024-11-14T17:56:09.548159Z"
    }
   },
   "cell_type": "code",
   "source": [
    "# Разделение базового набора данных на тренировочные и тестовые\n",
    "x_base_train, x_base_test, y_base_train, y_base_test = train_test_split(\n",
    "    x_base, y, test_size=0.3, shuffle=True\n",
    ")\n",
    "\n",
    "# Разделение расширенного набора данных на тренировочные и тестовые\n",
    "x_poly_train, x_poly_test, y_poly_train, y_poly_test = train_test_split(\n",
    "    x_poly, y, test_size=0.3, shuffle=True\n",
    ")"
   ],
   "id": "3b43bc91ef0aeb23",
   "outputs": [],
   "execution_count": 10
  },
  {
   "metadata": {},
   "cell_type": "markdown",
   "source": "##### Выполняем обучение линейной и полиномиальной моделей аналитическим методом - не используя готовое библиотечное решение.\n",
   "id": "fd27ff1a6ba0f3b5"
  },
  {
   "metadata": {
    "ExecuteTime": {
     "end_time": "2024-11-14T17:56:11.549496Z",
     "start_time": "2024-11-14T17:56:11.547372Z"
    }
   },
   "cell_type": "code",
   "source": [
    "def analytical_solution(x, y):\n",
    "    x = np.c_[np.ones(x.shape[0]), x] # Добавляем столбец единиц для учета интерсепта\n",
    "    theta = np.linalg.inv(x.T @ x) @ x.T @ y\n",
    "    return theta"
   ],
   "id": "ea7a251883e5769f",
   "outputs": [],
   "execution_count": 11
  },
  {
   "metadata": {
    "ExecuteTime": {
     "end_time": "2024-11-14T17:56:12.072240Z",
     "start_time": "2024-11-14T17:56:12.050260Z"
    }
   },
   "cell_type": "code",
   "source": [
    "# Обучение базовой модели\n",
    "linear_theta_base = analytical_solution(x_base_train, y_base_train)\n",
    "print(\"Коэффициенты базовой модели:\", linear_theta_base.flatten())\n",
    "\n",
    "# Обучение расширенной модели\n",
    "linear_theta_poly = analytical_solution(x_poly_train, y_poly_train)\n",
    "print(\"Коэффициенты расширенной модели:\", linear_theta_poly.flatten())"
   ],
   "id": "e297a15f4f77968c",
   "outputs": [
    {
     "name": "stdout",
     "output_type": "stream",
     "text": [
      "Коэффициенты базовой модели: [13319.85003496  2748.48674202  2425.31337545 -1956.59364206\n",
      "   298.62127293 -3883.21683185 23202.41372127]\n",
      "Коэффициенты расширенной модели: [ 1.74985175e+17 -9.94054747e+16  1.40686082e+16 -8.67120238e+14\n",
      "  1.28007082e+14  5.84532699e+14  3.77280920e+16  7.00917709e+14\n",
      "  1.39842998e+15 -3.11848603e+15 -3.73409763e+15  6.91338244e+16\n",
      " -2.92260221e+17  8.60024343e+13 -9.84552167e+13 -7.06061877e+12\n",
      " -2.56465746e+15 -2.58318140e+16 -2.42949903e+14 -7.92140393e+14\n",
      "  2.03094095e+16 -9.06982597e+15 -8.60868441e+14  4.69595028e+16\n",
      "  6.70161464e+15 -6.41154925e+17 -1.96974624e+17 -7.95914340e+16\n",
      "  1.90568937e+13 -1.91309307e+13 -1.20205451e+12  4.26931541e+13\n",
      " -1.48207317e+15 -3.14522254e+15  2.68865330e+13 -8.72460383e+13\n",
      " -1.65037430e+14  4.02969586e+15 -3.78077314e+15  5.54325661e+13\n",
      "  1.55666448e+14 -3.19465263e+15  9.25178644e+15  1.37478204e+14\n",
      " -6.38598399e+15  9.37121735e+15  7.79794860e+16 -1.45981572e+17\n",
      "  4.95779509e+17 -2.20731202e+12  1.06060324e+13  3.23404980e+13\n",
      " -9.23731936e+14 -5.16609356e+14 -1.28295576e+13 -7.53827251e+13\n",
      "  2.13672052e+15  1.05023011e+15 -1.05632382e+14  5.87606900e+15\n",
      "  1.89082942e+15 -8.11706353e+16 -4.23275289e+16  3.96680027e+16\n",
      "  2.17209911e+11 -4.16708448e+12  1.53929977e+14  3.93946176e+14\n",
      " -8.15337508e+12  4.88262474e+14  4.71484345e+14 -7.02634004e+15\n",
      " -8.79917485e+15  1.81227105e+16  1.98255878e+01 -1.25316788e+03\n",
      " -4.20799531e+02  2.34379370e+04 -1.53381695e+04 -4.26335484e+04\n",
      "  2.96709549e+04  3.31512788e+05  9.67069368e+04 -1.98143835e+05]\n"
     ]
    }
   ],
   "execution_count": 12
  },
  {
   "metadata": {},
   "cell_type": "markdown",
   "source": "##### Выполняем обучение линейной и полиномиальной моделей градиентным спуском - не используя готовое библиотечное решение.\n",
   "id": "6dbdd7a8bcb4a4df"
  },
  {
   "metadata": {
    "ExecuteTime": {
     "end_time": "2024-11-14T18:12:32.134550Z",
     "start_time": "2024-11-14T18:12:32.123726Z"
    }
   },
   "cell_type": "code",
   "source": [
    "def gradient_descent(x, y, learning_rate=0.01, iterations=1000):\n",
    "    m, n = x.shape\n",
    "    x = np.c_[np.ones(m), x]  # Добавляем столбец единиц для интерсепта\n",
    "    theta = np.zeros((n + 1,))  # Инициализация коэффициентов\n",
    "    for i in range(iterations):\n",
    "        predictions = x @ theta\n",
    "        error = predictions - y\n",
    "        theta -= (learning_rate / m) * (x.T @ error)\n",
    "    return theta"
   ],
   "id": "4e399c46f63c1c83",
   "outputs": [],
   "execution_count": 13
  },
  {
   "metadata": {
    "ExecuteTime": {
     "end_time": "2024-11-14T18:12:40.979091Z",
     "start_time": "2024-11-14T18:12:32.824563Z"
    }
   },
   "cell_type": "code",
   "source": [
    "# Обучение базовой модели\n",
    "gradient_theta_base = gradient_descent(x_base_train, y_base_train, learning_rate=0.0001, iterations=100000)\n",
    "print(\"Коэффициенты базовой модели:\", gradient_theta_base.flatten())\n",
    "\n",
    "# Обучение расширенной модели\n",
    "gradient_theta_poly = gradient_descent(x_poly_train, y_poly_train, learning_rate=0.0001, iterations=100000)\n",
    "print(\"Коэффициенты расширенной модели:\", gradient_theta_poly.flatten())"
   ],
   "id": "b6cca9b4ad0cf91b",
   "outputs": [
    {
     "name": "stdout",
     "output_type": "stream",
     "text": [
      "Коэффициенты базовой модели: [13315.93818683  2738.45826243  2396.57970104 -1947.79704065\n",
      "   333.53433322 -3570.86674983 18484.07525069]\n",
      "Коэффициенты расширенной модели: [ 8727.08391416  1638.0818538   1747.45439762 -1096.36306807\n",
      "   284.0825199  -1199.8295814   6843.86239255   425.36892819\n",
      "   123.46666487  -198.86111033  -819.47070658 -1060.43771728\n",
      "  3751.52804669   842.46262881  -140.23292929   228.19624785\n",
      "   264.17713599 -1535.88991636   938.0389734    574.41874522\n",
      "   365.69688695 -1529.7102293    843.96803679  -734.08585002\n",
      "  3858.39020623  2625.71711827 -1584.36262495  5016.1511498\n",
      "    28.60065854   341.93129198   -26.02363819  -166.77007211\n",
      "  -479.50746513  2226.57216719   739.66652038  -163.07228703\n",
      "  -544.21186875   -13.47241988   -38.4638657   -148.37698678\n",
      "   227.4304046   -528.99886118   863.47611808  -355.08882829\n",
      "   -13.97872232 -1304.80510045   736.70385791 -1214.67431872\n",
      "  2209.41146962    65.26270122  -460.2204366   -402.0283913\n",
      "  -803.18713903  2976.09100954  -125.44032652  -129.70345637\n",
      "    79.23844742 -1210.89882145   276.96335583   114.78295794\n",
      "   765.59251932   483.05836682     8.94268046  -632.52099547\n",
      "   -89.31798074   210.70486901   -80.2870603   2106.12205248\n",
      "  -379.17262653  -298.17615124    97.96619105  -355.15702831\n",
      "   240.81571838 -1084.52938529    45.09822001   -94.69107648\n",
      "  2901.61785535   197.63851514  -521.34151259  2195.82080394\n",
      "  -884.56307752  1860.37849517  -763.7284819   3994.48926898]\n"
     ]
    }
   ],
   "execution_count": 14
  },
  {
   "metadata": {
    "ExecuteTime": {
     "end_time": "2024-11-14T18:12:44.065030Z",
     "start_time": "2024-11-14T18:12:44.032761Z"
    }
   },
   "cell_type": "code",
   "source": [
    "def predict(x, theta):\n",
    "    x = np.c_[np.ones(x.shape[0]), x]  # Добавляем столбец единиц для интерсепта, если его нет\n",
    "    return x @ theta\n",
    "\n",
    "# Предсказания для базовой модели\n",
    "y_base_pred_linear = predict(x_base_test, linear_theta_base)\n",
    "y_base_pred_gradient = predict(x_base_test, gradient_theta_base)\n",
    "\n",
    "# Предсказания для полиномиальной модели\n",
    "y_poly_pred_linear = predict(x_poly_test, linear_theta_poly)\n",
    "y_poly_pred_gradient = predict(x_poly_test, gradient_theta_poly)\n",
    "\n",
    "print(\"Метрики для базовой модели (Linear):\")\n",
    "print(f\"MAE : {mean_absolute_error(y_base_test, y_base_pred_linear):.3f}\")\n",
    "print(f\"MSE : {mean_squared_error(y_base_test, y_base_pred_linear):.3f}\")\n",
    "print(f\"R²  : {r2_score(y_base_test, y_base_pred_linear):.3f}\")\n",
    "\n",
    "print(\"\\nМетрики для полиномиальной модели (Linear):\")\n",
    "print(f\"MAE : {mean_absolute_error(y_poly_test, y_poly_pred_linear):.3f}\")\n",
    "print(f\"MSE : {mean_squared_error(y_poly_test, y_poly_pred_linear):.3f}\")\n",
    "print(f\"R²  : {r2_score(y_poly_test, y_poly_pred_linear):.3f}\")\n",
    "\n",
    "print(\"\\nМетрики для базовой модели (Gradient):\")\n",
    "print(f\"MAE : {mean_absolute_error(y_base_test, y_base_pred_gradient):.3f}\")\n",
    "print(f\"MSE : {mean_squared_error(y_base_test, y_base_pred_gradient):.3f}\")\n",
    "print(f\"R²  : {r2_score(y_base_test, y_base_pred_gradient):.3f}\")\n",
    "\n",
    "print(\"\\nМетрики для полиномиальной модели (Gradient):\")\n",
    "print(f\"MAE : {mean_absolute_error(y_poly_test, y_poly_pred_gradient):.3f}\")\n",
    "print(f\"MSE : {mean_squared_error(y_poly_test, y_poly_pred_gradient):.3f}\")\n",
    "print(f\"R²  : {r2_score(y_poly_test, y_poly_pred_gradient):.3f}\")"
   ],
   "id": "34a485cfcc03c02f",
   "outputs": [
    {
     "name": "stdout",
     "output_type": "stream",
     "text": [
      "Метрики для базовой модели (Linear):\n",
      "MAE : 4089.489\n",
      "MSE : 32931231.001\n",
      "R²  : 0.779\n",
      "\n",
      "Метрики для полиномиальной модели (Linear):\n",
      "MAE : 40129.834\n",
      "MSE : 1895931374.389\n",
      "R²  : -12.157\n",
      "\n",
      "Метрики для базовой модели (Gradient):\n",
      "MAE : 4621.165\n",
      "MSE : 38170293.965\n",
      "R²  : 0.744\n",
      "\n",
      "Метрики для полиномиальной модели (Gradient):\n",
      "MAE : 3371.608\n",
      "MSE : 29768337.626\n",
      "R²  : 0.793\n"
     ]
    }
   ],
   "execution_count": 15
  },
  {
   "metadata": {},
   "cell_type": "code",
   "source": "",
   "id": "75fb1e47bebe24d",
   "outputs": [],
   "execution_count": null
  },
  {
   "metadata": {},
   "cell_type": "code",
   "source": "",
   "id": "3ba2d38e3a748912",
   "outputs": [],
   "execution_count": null
  },
  {
   "metadata": {},
   "cell_type": "code",
   "source": "",
   "id": "7d6fc767d9da28ff",
   "outputs": [],
   "execution_count": null
  }
 ],
 "metadata": {
  "kernelspec": {
   "display_name": "Python 3",
   "language": "python",
   "name": "python3"
  },
  "language_info": {
   "codemirror_mode": {
    "name": "ipython",
    "version": 2
   },
   "file_extension": ".py",
   "mimetype": "text/x-python",
   "name": "python",
   "nbconvert_exporter": "python",
   "pygments_lexer": "ipython2",
   "version": "2.7.6"
  }
 },
 "nbformat": 4,
 "nbformat_minor": 5
}
