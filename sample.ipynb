{
 "cells": [
  {
   "metadata": {
    "ExecuteTime": {
     "end_time": "2024-11-14T18:23:02.825498Z",
     "start_time": "2024-11-14T18:23:02.813481Z"
    }
   },
   "cell_type": "code",
   "source": [
    "from sklearn.preprocessing import PolynomialFeatures\n",
    "from sklearn.model_selection import train_test_split \n",
    "from sklearn.decomposition import PCA\n",
    "import pandas as pd\n",
    "import numpy as np\n",
    "from sklearn.metrics import mean_absolute_error, mean_squared_error, r2_score"
   ],
   "id": "fbc121e30a2defb3",
   "outputs": [],
   "execution_count": 16
  },
  {
   "metadata": {},
   "cell_type": "markdown",
   "source": "##### Загружаем датасет",
   "id": "75b1aefc2eecaf95"
  },
  {
   "metadata": {
    "ExecuteTime": {
     "end_time": "2024-11-14T18:23:02.874308Z",
     "start_time": "2024-11-14T18:23:02.861591Z"
    }
   },
   "cell_type": "code",
   "source": [
    "df = pd.read_csv('data/insurance.csv')\n",
    "df.head()"
   ],
   "id": "65a1215207bea6be",
   "outputs": [
    {
     "data": {
      "text/plain": [
       "   age     sex     bmi  children smoker     region      charges\n",
       "0   19  female  27.900         0    yes  southwest  16884.92400\n",
       "1   18    male  33.770         1     no  southeast   1725.55230\n",
       "2   28    male  33.000         3     no  southeast   4449.46200\n",
       "3   33    male  22.705         0     no  northwest  21984.47061\n",
       "4   32    male  28.880         0     no  northwest   3866.85520"
      ],
      "text/html": [
       "<div>\n",
       "<style scoped>\n",
       "    .dataframe tbody tr th:only-of-type {\n",
       "        vertical-align: middle;\n",
       "    }\n",
       "\n",
       "    .dataframe tbody tr th {\n",
       "        vertical-align: top;\n",
       "    }\n",
       "\n",
       "    .dataframe thead th {\n",
       "        text-align: right;\n",
       "    }\n",
       "</style>\n",
       "<table border=\"1\" class=\"dataframe\">\n",
       "  <thead>\n",
       "    <tr style=\"text-align: right;\">\n",
       "      <th></th>\n",
       "      <th>age</th>\n",
       "      <th>sex</th>\n",
       "      <th>bmi</th>\n",
       "      <th>children</th>\n",
       "      <th>smoker</th>\n",
       "      <th>region</th>\n",
       "      <th>charges</th>\n",
       "    </tr>\n",
       "  </thead>\n",
       "  <tbody>\n",
       "    <tr>\n",
       "      <th>0</th>\n",
       "      <td>19</td>\n",
       "      <td>female</td>\n",
       "      <td>27.900</td>\n",
       "      <td>0</td>\n",
       "      <td>yes</td>\n",
       "      <td>southwest</td>\n",
       "      <td>16884.92400</td>\n",
       "    </tr>\n",
       "    <tr>\n",
       "      <th>1</th>\n",
       "      <td>18</td>\n",
       "      <td>male</td>\n",
       "      <td>33.770</td>\n",
       "      <td>1</td>\n",
       "      <td>no</td>\n",
       "      <td>southeast</td>\n",
       "      <td>1725.55230</td>\n",
       "    </tr>\n",
       "    <tr>\n",
       "      <th>2</th>\n",
       "      <td>28</td>\n",
       "      <td>male</td>\n",
       "      <td>33.000</td>\n",
       "      <td>3</td>\n",
       "      <td>no</td>\n",
       "      <td>southeast</td>\n",
       "      <td>4449.46200</td>\n",
       "    </tr>\n",
       "    <tr>\n",
       "      <th>3</th>\n",
       "      <td>33</td>\n",
       "      <td>male</td>\n",
       "      <td>22.705</td>\n",
       "      <td>0</td>\n",
       "      <td>no</td>\n",
       "      <td>northwest</td>\n",
       "      <td>21984.47061</td>\n",
       "    </tr>\n",
       "    <tr>\n",
       "      <th>4</th>\n",
       "      <td>32</td>\n",
       "      <td>male</td>\n",
       "      <td>28.880</td>\n",
       "      <td>0</td>\n",
       "      <td>no</td>\n",
       "      <td>northwest</td>\n",
       "      <td>3866.85520</td>\n",
       "    </tr>\n",
       "  </tbody>\n",
       "</table>\n",
       "</div>"
      ]
     },
     "execution_count": 17,
     "metadata": {},
     "output_type": "execute_result"
    }
   ],
   "execution_count": 17
  },
  {
   "metadata": {},
   "cell_type": "markdown",
   "source": "##### Проверяем на наличие пропусков и типы данные ",
   "id": "6d8302196915e4c5"
  },
  {
   "metadata": {
    "ExecuteTime": {
     "end_time": "2024-11-14T18:23:02.906149Z",
     "start_time": "2024-11-14T18:23:02.895002Z"
    }
   },
   "cell_type": "code",
   "source": "df.info()",
   "id": "cf06a57444c53414",
   "outputs": [
    {
     "name": "stdout",
     "output_type": "stream",
     "text": [
      "<class 'pandas.core.frame.DataFrame'>\n",
      "RangeIndex: 1338 entries, 0 to 1337\n",
      "Data columns (total 7 columns):\n",
      " #   Column    Non-Null Count  Dtype  \n",
      "---  ------    --------------  -----  \n",
      " 0   age       1338 non-null   int64  \n",
      " 1   sex       1338 non-null   object \n",
      " 2   bmi       1338 non-null   float64\n",
      " 3   children  1338 non-null   int64  \n",
      " 4   smoker    1338 non-null   object \n",
      " 5   region    1338 non-null   object \n",
      " 6   charges   1338 non-null   float64\n",
      "dtypes: float64(2), int64(2), object(3)\n",
      "memory usage: 73.3+ KB\n"
     ]
    }
   ],
   "execution_count": 18
  },
  {
   "metadata": {},
   "cell_type": "markdown",
   "source": "##### Разделение признаков и целевой переменной",
   "id": "edc8c1f1c4252caf"
  },
  {
   "metadata": {
    "ExecuteTime": {
     "end_time": "2024-11-14T18:23:02.983908Z",
     "start_time": "2024-11-14T18:23:02.980773Z"
    }
   },
   "cell_type": "code",
   "source": [
    "x = df.drop(['charges'], axis=1)\n",
    "y = df['charges'].values"
   ],
   "id": "18e86238ad6f3360",
   "outputs": [],
   "execution_count": 19
  },
  {
   "metadata": {},
   "cell_type": "markdown",
   "source": "##### Преобразование категориальных признаков в числовые значения и нормализация числовых признаков",
   "id": "c1ae8dd155e436ab"
  },
  {
   "metadata": {
    "ExecuteTime": {
     "end_time": "2024-11-14T18:23:03.049769Z",
     "start_time": "2024-11-14T18:23:03.041026Z"
    }
   },
   "cell_type": "code",
   "source": [
    "x['sex'] = x['sex'].map({'male': 0, 'female': 1})\n",
    "x['smoker'] = x['smoker'].map({'yes': 1, 'no': 0})\n",
    "x['region'] = x['region'].map({'southwest': 0, 'southeast': 1, 'northwest': 2, 'northeast': 3})\n",
    "\n",
    "for feature in ['age', 'bmi', 'children', 'region']:\n",
    "    x[feature] = (x[feature] - x[feature].mean()) / x[feature].std()\n",
    "    \n",
    "x.head()"
   ],
   "id": "325e5f0962337125",
   "outputs": [
    {
     "data": {
      "text/plain": [
       "        age  sex       bmi  children  smoker    region\n",
       "0 -1.438227    1 -0.453151 -0.908274       1 -1.343402\n",
       "1 -1.509401    0  0.509431 -0.078738       0 -0.438331\n",
       "2 -0.797655    0  0.383164  1.580335       0 -0.438331\n",
       "3 -0.441782    0 -1.305043 -0.908274       0  0.466741\n",
       "4 -0.512957    0 -0.292447 -0.908274       0  0.466741"
      ],
      "text/html": [
       "<div>\n",
       "<style scoped>\n",
       "    .dataframe tbody tr th:only-of-type {\n",
       "        vertical-align: middle;\n",
       "    }\n",
       "\n",
       "    .dataframe tbody tr th {\n",
       "        vertical-align: top;\n",
       "    }\n",
       "\n",
       "    .dataframe thead th {\n",
       "        text-align: right;\n",
       "    }\n",
       "</style>\n",
       "<table border=\"1\" class=\"dataframe\">\n",
       "  <thead>\n",
       "    <tr style=\"text-align: right;\">\n",
       "      <th></th>\n",
       "      <th>age</th>\n",
       "      <th>sex</th>\n",
       "      <th>bmi</th>\n",
       "      <th>children</th>\n",
       "      <th>smoker</th>\n",
       "      <th>region</th>\n",
       "    </tr>\n",
       "  </thead>\n",
       "  <tbody>\n",
       "    <tr>\n",
       "      <th>0</th>\n",
       "      <td>-1.438227</td>\n",
       "      <td>1</td>\n",
       "      <td>-0.453151</td>\n",
       "      <td>-0.908274</td>\n",
       "      <td>1</td>\n",
       "      <td>-1.343402</td>\n",
       "    </tr>\n",
       "    <tr>\n",
       "      <th>1</th>\n",
       "      <td>-1.509401</td>\n",
       "      <td>0</td>\n",
       "      <td>0.509431</td>\n",
       "      <td>-0.078738</td>\n",
       "      <td>0</td>\n",
       "      <td>-0.438331</td>\n",
       "    </tr>\n",
       "    <tr>\n",
       "      <th>2</th>\n",
       "      <td>-0.797655</td>\n",
       "      <td>0</td>\n",
       "      <td>0.383164</td>\n",
       "      <td>1.580335</td>\n",
       "      <td>0</td>\n",
       "      <td>-0.438331</td>\n",
       "    </tr>\n",
       "    <tr>\n",
       "      <th>3</th>\n",
       "      <td>-0.441782</td>\n",
       "      <td>0</td>\n",
       "      <td>-1.305043</td>\n",
       "      <td>-0.908274</td>\n",
       "      <td>0</td>\n",
       "      <td>0.466741</td>\n",
       "    </tr>\n",
       "    <tr>\n",
       "      <th>4</th>\n",
       "      <td>-0.512957</td>\n",
       "      <td>0</td>\n",
       "      <td>-0.292447</td>\n",
       "      <td>-0.908274</td>\n",
       "      <td>0</td>\n",
       "      <td>0.466741</td>\n",
       "    </tr>\n",
       "  </tbody>\n",
       "</table>\n",
       "</div>"
      ]
     },
     "execution_count": 20,
     "metadata": {},
     "output_type": "execute_result"
    }
   ],
   "execution_count": 20
  },
  {
   "metadata": {},
   "cell_type": "markdown",
   "source": "##### Выполняем снижение размерности на основе МГК (мин уровень дисперсии 0.95)",
   "id": "e2efa53600d2b205"
  },
  {
   "metadata": {
    "ExecuteTime": {
     "end_time": "2024-11-14T18:23:03.088042Z",
     "start_time": "2024-11-14T18:23:03.081498Z"
    }
   },
   "cell_type": "code",
   "source": [
    "pca = PCA(n_components=0.98) # при 0.95 растет полиномиальная линейная модель \n",
    "x = pca.fit_transform(x)\n",
    "x_base = x"
   ],
   "id": "c2543144cb73694c",
   "outputs": [],
   "execution_count": 21
  },
  {
   "metadata": {},
   "cell_type": "markdown",
   "source": "##### Выполняем расширение базовых признаков за счет применения полиномиальной модели (степень = 3)",
   "id": "6cebc86e0364992c"
  },
  {
   "metadata": {
    "ExecuteTime": {
     "end_time": "2024-11-14T18:23:03.124470Z",
     "start_time": "2024-11-14T18:23:03.119087Z"
    }
   },
   "cell_type": "code",
   "source": [
    "poly = PolynomialFeatures(degree=3, include_bias=False)\n",
    "x_poly = poly.fit_transform(x_base)"
   ],
   "id": "38c4325126c0c602",
   "outputs": [],
   "execution_count": 22
  },
  {
   "metadata": {},
   "cell_type": "markdown",
   "source": "##### Разбиваем датасеты (базовый и расширенный) на 2 множества (обучающее и тестовое).",
   "id": "69b7b60ad6c6cd11"
  },
  {
   "metadata": {
    "ExecuteTime": {
     "end_time": "2024-11-14T18:23:03.175101Z",
     "start_time": "2024-11-14T18:23:03.169720Z"
    }
   },
   "cell_type": "code",
   "source": [
    "# Разделение базового набора данных на тренировочные и тестовые\n",
    "x_base_train, x_base_test, y_base_train, y_base_test = train_test_split(\n",
    "    x_base, y, test_size=0.3, shuffle=True\n",
    ")\n",
    "\n",
    "# Разделение расширенного набора данных на тренировочные и тестовые\n",
    "x_poly_train, x_poly_test, y_poly_train, y_poly_test = train_test_split(\n",
    "    x_poly, y, test_size=0.3, shuffle=True\n",
    ")"
   ],
   "id": "3b43bc91ef0aeb23",
   "outputs": [],
   "execution_count": 23
  },
  {
   "metadata": {},
   "cell_type": "markdown",
   "source": "##### Выполняем обучение линейной и полиномиальной моделей аналитическим методом - не используя готовое библиотечное решение.\n",
   "id": "fd27ff1a6ba0f3b5"
  },
  {
   "metadata": {
    "ExecuteTime": {
     "end_time": "2024-11-14T18:23:03.212134Z",
     "start_time": "2024-11-14T18:23:03.209308Z"
    }
   },
   "cell_type": "code",
   "source": [
    "def analytical_solution(x, y):\n",
    "    x = np.c_[np.ones(x.shape[0]), x] # Добавляем столбец единиц для учета интерсепта\n",
    "    theta = np.linalg.inv(x.T @ x) @ x.T @ y\n",
    "    return theta"
   ],
   "id": "ea7a251883e5769f",
   "outputs": [],
   "execution_count": 24
  },
  {
   "metadata": {
    "ExecuteTime": {
     "end_time": "2024-11-14T18:23:03.344564Z",
     "start_time": "2024-11-14T18:23:03.232204Z"
    }
   },
   "cell_type": "code",
   "source": [
    "# Обучение базовой модели\n",
    "linear_theta_base = analytical_solution(x_base_train, y_base_train)\n",
    "print(\"Коэффициенты базовой модели:\", linear_theta_base.flatten())\n",
    "\n",
    "# Обучение расширенной модели\n",
    "linear_theta_poly = analytical_solution(x_poly_train, y_poly_train)\n",
    "print(\"Коэффициенты расширенной модели:\", linear_theta_poly.flatten())"
   ],
   "id": "e297a15f4f77968c",
   "outputs": [
    {
     "name": "stdout",
     "output_type": "stream",
     "text": [
      "Коэффициенты базовой модели: [13273.66644566  2679.07061428  2243.79632889 -2029.37620018\n",
      "   306.15908485 -4039.93542611 23766.59550228]\n",
      "Коэффициенты расширенной модели: [ 4.43060249e+18 -1.20577236e+18  1.35454910e+18  5.89567866e+18\n",
      " -1.52558077e+16  3.27852073e+17 -7.68218989e+17 -9.70194799e+14\n",
      "  8.23629103e+15 -2.94223652e+16 -2.86794590e+16  6.78130226e+17\n",
      " -8.64576490e+17  2.96290891e+15 -1.83509899e+16 -2.51829506e+15\n",
      " -1.83982266e+16 -8.06928790e+17  2.66731752e+16  8.98925039e+15\n",
      "  1.36498911e+17  3.54464276e+18 -2.39974562e+16  1.31602539e+18\n",
      "  2.52355791e+17 -1.80259829e+19 -6.60464178e+18  8.13613057e+17\n",
      "  8.75045525e+14 -2.05674942e+15 -3.08219240e+15  4.00963629e+15\n",
      " -1.10691168e+17 -2.80840531e+16  1.30170753e+15 -7.70342097e+13\n",
      " -8.62909828e+15  2.33776294e+17  1.87879374e+16 -7.19548210e+15\n",
      " -1.71706218e+16  4.76761832e+17  1.46007471e+17  5.04566072e+15\n",
      " -2.72431139e+17 -1.29759508e+16  3.69639745e+18  7.07509442e+17\n",
      "  1.68339605e+18 -1.94100202e+14  1.43240308e+14  2.54030973e+15\n",
      " -7.06859136e+16 -2.30203398e+16  2.61487922e+15  2.82297044e+15\n",
      " -6.91638411e+16  6.24590576e+16 -7.98274200e+15  4.39708927e+17\n",
      "  1.02081908e+17 -6.03873432e+18 -2.50522486e+18  1.10969654e+18\n",
      " -4.41811641e+15 -2.11085777e+16  5.65100342e+17 -1.74908577e+16\n",
      " -2.63016928e+16  1.42598124e+18  1.22692050e+17 -1.93970468e+19\n",
      " -4.62358903e+18 -6.22814738e+18 -1.22347599e+03 -6.57640719e+03\n",
      "  5.49930244e+03  7.87085466e+04 -8.19204357e+04  2.50218605e+05\n",
      "  3.13607579e+04  4.22799582e+05 -6.41822127e+03 -1.08595220e+05]\n"
     ]
    }
   ],
   "execution_count": 25
  },
  {
   "metadata": {},
   "cell_type": "markdown",
   "source": "##### Выполняем обучение линейной и полиномиальной моделей градиентным спуском - не используя готовое библиотечное решение.\n",
   "id": "6dbdd7a8bcb4a4df"
  },
  {
   "metadata": {
    "ExecuteTime": {
     "end_time": "2024-11-14T18:23:03.392322Z",
     "start_time": "2024-11-14T18:23:03.387803Z"
    }
   },
   "cell_type": "code",
   "source": [
    "def gradient_descent(x, y, learning_rate=0.01, iterations=1000):\n",
    "    m, n = x.shape\n",
    "    x = np.c_[np.ones(m), x]  # Добавляем столбец единиц для интерсепта\n",
    "    theta = np.zeros((n + 1,))  # Инициализация коэффициентов\n",
    "    for i in range(iterations):\n",
    "        predictions = x @ theta\n",
    "        error = predictions - y\n",
    "        theta -= (learning_rate / m) * (x.T @ error)\n",
    "    return theta"
   ],
   "id": "4e399c46f63c1c83",
   "outputs": [],
   "execution_count": 26
  },
  {
   "metadata": {
    "jupyter": {
     "is_executing": true
    },
    "ExecuteTime": {
     "start_time": "2024-11-14T18:23:03.416975Z"
    }
   },
   "cell_type": "code",
   "source": [
    "# Обучение базовой модели\n",
    "gradient_theta_base = gradient_descent(x_base_train, y_base_train, learning_rate=0.0001, iterations=100000)\n",
    "print(\"Коэффициенты базовой модели:\", gradient_theta_base.flatten())\n",
    "\n",
    "# Обучение расширенной модели\n",
    "gradient_theta_poly = gradient_descent(x_poly_train, y_poly_train, learning_rate=0.0001, iterations=100000)\n",
    "print(\"Коэффициенты расширенной модели:\", gradient_theta_poly.flatten())"
   ],
   "id": "b6cca9b4ad0cf91b",
   "outputs": [
    {
     "name": "stdout",
     "output_type": "stream",
     "text": [
      "Коэффициенты базовой модели: [13273.90033759  2635.5185428   2254.57159429 -1992.80966341\n",
      "   341.43309367 -3655.49649674 18980.6917166 ]\n"
     ]
    }
   ],
   "execution_count": null
  },
  {
   "metadata": {},
   "cell_type": "code",
   "source": [
    "def predict(x, theta):\n",
    "    x = np.c_[np.ones(x.shape[0]), x]  # Добавляем столбец единиц для интерсепта, если его нет\n",
    "    return x @ theta\n",
    "\n",
    "# Предсказания для базовой модели\n",
    "y_base_pred_linear = predict(x_base_test, linear_theta_base)\n",
    "y_base_pred_gradient = predict(x_base_test, gradient_theta_base)\n",
    "\n",
    "# Предсказания для полиномиальной модели\n",
    "y_poly_pred_linear = predict(x_poly_test, linear_theta_poly)\n",
    "y_poly_pred_gradient = predict(x_poly_test, gradient_theta_poly)\n",
    "\n",
    "print(\"Метрики для базовой модели (Linear):\")\n",
    "print(f\"MAE : {mean_absolute_error(y_base_test, y_base_pred_linear):.3f}\")\n",
    "print(f\"MSE : {mean_squared_error(y_base_test, y_base_pred_linear):.3f}\")\n",
    "print(f\"R²  : {r2_score(y_base_test, y_base_pred_linear):.3f}\")\n",
    "\n",
    "print(\"\\nМетрики для полиномиальной модели (Linear):\")\n",
    "print(f\"MAE : {mean_absolute_error(y_poly_test, y_poly_pred_linear):.3f}\")\n",
    "print(f\"MSE : {mean_squared_error(y_poly_test, y_poly_pred_linear):.3f}\")\n",
    "print(f\"R²  : {r2_score(y_poly_test, y_poly_pred_linear):.3f}\")\n",
    "\n",
    "print(\"\\nМетрики для базовой модели (Gradient):\")\n",
    "print(f\"MAE : {mean_absolute_error(y_base_test, y_base_pred_gradient):.3f}\")\n",
    "print(f\"MSE : {mean_squared_error(y_base_test, y_base_pred_gradient):.3f}\")\n",
    "print(f\"R²  : {r2_score(y_base_test, y_base_pred_gradient):.3f}\")\n",
    "\n",
    "print(\"\\nМетрики для полиномиальной модели (Gradient):\")\n",
    "print(f\"MAE : {mean_absolute_error(y_poly_test, y_poly_pred_gradient):.3f}\")\n",
    "print(f\"MSE : {mean_squared_error(y_poly_test, y_poly_pred_gradient):.3f}\")\n",
    "print(f\"R²  : {r2_score(y_poly_test, y_poly_pred_gradient):.3f}\")"
   ],
   "id": "34a485cfcc03c02f",
   "outputs": [],
   "execution_count": null
  },
  {
   "metadata": {},
   "cell_type": "code",
   "source": "",
   "id": "75fb1e47bebe24d",
   "outputs": [],
   "execution_count": null
  },
  {
   "metadata": {},
   "cell_type": "code",
   "source": "",
   "id": "3ba2d38e3a748912",
   "outputs": [],
   "execution_count": null
  },
  {
   "metadata": {},
   "cell_type": "code",
   "source": "",
   "id": "7d6fc767d9da28ff",
   "outputs": [],
   "execution_count": null
  }
 ],
 "metadata": {
  "kernelspec": {
   "display_name": "Python 3",
   "language": "python",
   "name": "python3"
  },
  "language_info": {
   "codemirror_mode": {
    "name": "ipython",
    "version": 2
   },
   "file_extension": ".py",
   "mimetype": "text/x-python",
   "name": "python",
   "nbconvert_exporter": "python",
   "pygments_lexer": "ipython2",
   "version": "2.7.6"
  }
 },
 "nbformat": 4,
 "nbformat_minor": 5
}
