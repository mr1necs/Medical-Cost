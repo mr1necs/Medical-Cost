{
 "cells": [
  {
   "metadata": {
    "ExecuteTime": {
     "end_time": "2024-11-14T18:24:23.531524Z",
     "start_time": "2024-11-14T18:24:22.550083Z"
    }
   },
   "cell_type": "code",
   "source": [
    "from sklearn.preprocessing import PolynomialFeatures\n",
    "from sklearn.model_selection import train_test_split \n",
    "from sklearn.decomposition import PCA\n",
    "import pandas as pd\n",
    "import numpy as np\n",
    "from sklearn.metrics import mean_absolute_error, mean_squared_error, r2_score"
   ],
   "id": "fbc121e30a2defb3",
   "outputs": [],
   "execution_count": 1
  },
  {
   "metadata": {},
   "cell_type": "markdown",
   "source": "##### Загружаем датасет",
   "id": "75b1aefc2eecaf95"
  },
  {
   "metadata": {
    "ExecuteTime": {
     "end_time": "2024-11-14T18:24:23.546093Z",
     "start_time": "2024-11-14T18:24:23.534798Z"
    }
   },
   "cell_type": "code",
   "source": [
    "df = pd.read_csv('data/insurance.csv')\n",
    "df.head()"
   ],
   "id": "65a1215207bea6be",
   "outputs": [
    {
     "data": {
      "text/plain": [
       "   age     sex     bmi  children smoker     region      charges\n",
       "0   19  female  27.900         0    yes  southwest  16884.92400\n",
       "1   18    male  33.770         1     no  southeast   1725.55230\n",
       "2   28    male  33.000         3     no  southeast   4449.46200\n",
       "3   33    male  22.705         0     no  northwest  21984.47061\n",
       "4   32    male  28.880         0     no  northwest   3866.85520"
      ],
      "text/html": [
       "<div>\n",
       "<style scoped>\n",
       "    .dataframe tbody tr th:only-of-type {\n",
       "        vertical-align: middle;\n",
       "    }\n",
       "\n",
       "    .dataframe tbody tr th {\n",
       "        vertical-align: top;\n",
       "    }\n",
       "\n",
       "    .dataframe thead th {\n",
       "        text-align: right;\n",
       "    }\n",
       "</style>\n",
       "<table border=\"1\" class=\"dataframe\">\n",
       "  <thead>\n",
       "    <tr style=\"text-align: right;\">\n",
       "      <th></th>\n",
       "      <th>age</th>\n",
       "      <th>sex</th>\n",
       "      <th>bmi</th>\n",
       "      <th>children</th>\n",
       "      <th>smoker</th>\n",
       "      <th>region</th>\n",
       "      <th>charges</th>\n",
       "    </tr>\n",
       "  </thead>\n",
       "  <tbody>\n",
       "    <tr>\n",
       "      <th>0</th>\n",
       "      <td>19</td>\n",
       "      <td>female</td>\n",
       "      <td>27.900</td>\n",
       "      <td>0</td>\n",
       "      <td>yes</td>\n",
       "      <td>southwest</td>\n",
       "      <td>16884.92400</td>\n",
       "    </tr>\n",
       "    <tr>\n",
       "      <th>1</th>\n",
       "      <td>18</td>\n",
       "      <td>male</td>\n",
       "      <td>33.770</td>\n",
       "      <td>1</td>\n",
       "      <td>no</td>\n",
       "      <td>southeast</td>\n",
       "      <td>1725.55230</td>\n",
       "    </tr>\n",
       "    <tr>\n",
       "      <th>2</th>\n",
       "      <td>28</td>\n",
       "      <td>male</td>\n",
       "      <td>33.000</td>\n",
       "      <td>3</td>\n",
       "      <td>no</td>\n",
       "      <td>southeast</td>\n",
       "      <td>4449.46200</td>\n",
       "    </tr>\n",
       "    <tr>\n",
       "      <th>3</th>\n",
       "      <td>33</td>\n",
       "      <td>male</td>\n",
       "      <td>22.705</td>\n",
       "      <td>0</td>\n",
       "      <td>no</td>\n",
       "      <td>northwest</td>\n",
       "      <td>21984.47061</td>\n",
       "    </tr>\n",
       "    <tr>\n",
       "      <th>4</th>\n",
       "      <td>32</td>\n",
       "      <td>male</td>\n",
       "      <td>28.880</td>\n",
       "      <td>0</td>\n",
       "      <td>no</td>\n",
       "      <td>northwest</td>\n",
       "      <td>3866.85520</td>\n",
       "    </tr>\n",
       "  </tbody>\n",
       "</table>\n",
       "</div>"
      ]
     },
     "execution_count": 2,
     "metadata": {},
     "output_type": "execute_result"
    }
   ],
   "execution_count": 2
  },
  {
   "metadata": {},
   "cell_type": "markdown",
   "source": "##### Проверяем на наличие пропусков и типы данные ",
   "id": "6d8302196915e4c5"
  },
  {
   "metadata": {
    "ExecuteTime": {
     "end_time": "2024-11-14T18:24:23.630763Z",
     "start_time": "2024-11-14T18:24:23.625933Z"
    }
   },
   "cell_type": "code",
   "source": "df.info()",
   "id": "cf06a57444c53414",
   "outputs": [
    {
     "name": "stdout",
     "output_type": "stream",
     "text": [
      "<class 'pandas.core.frame.DataFrame'>\n",
      "RangeIndex: 1338 entries, 0 to 1337\n",
      "Data columns (total 7 columns):\n",
      " #   Column    Non-Null Count  Dtype  \n",
      "---  ------    --------------  -----  \n",
      " 0   age       1338 non-null   int64  \n",
      " 1   sex       1338 non-null   object \n",
      " 2   bmi       1338 non-null   float64\n",
      " 3   children  1338 non-null   int64  \n",
      " 4   smoker    1338 non-null   object \n",
      " 5   region    1338 non-null   object \n",
      " 6   charges   1338 non-null   float64\n",
      "dtypes: float64(2), int64(2), object(3)\n",
      "memory usage: 73.3+ KB\n"
     ]
    }
   ],
   "execution_count": 3
  },
  {
   "metadata": {},
   "cell_type": "markdown",
   "source": "##### Разделение признаков и целевой переменной",
   "id": "edc8c1f1c4252caf"
  },
  {
   "metadata": {
    "ExecuteTime": {
     "end_time": "2024-11-14T18:24:23.703408Z",
     "start_time": "2024-11-14T18:24:23.701152Z"
    }
   },
   "cell_type": "code",
   "source": [
    "x = df.drop(['charges'], axis=1)\n",
    "y = df['charges'].values"
   ],
   "id": "18e86238ad6f3360",
   "outputs": [],
   "execution_count": 4
  },
  {
   "metadata": {},
   "cell_type": "markdown",
   "source": "##### Преобразование категориальных признаков в числовые значения и нормализация числовых признаков",
   "id": "c1ae8dd155e436ab"
  },
  {
   "metadata": {
    "ExecuteTime": {
     "end_time": "2024-11-14T18:24:23.759932Z",
     "start_time": "2024-11-14T18:24:23.753241Z"
    }
   },
   "cell_type": "code",
   "source": [
    "x['sex'] = x['sex'].map({'male': 0, 'female': 1})\n",
    "x['smoker'] = x['smoker'].map({'yes': 1, 'no': 0})\n",
    "x['region'] = x['region'].map({'southwest': 0, 'southeast': 1, 'northwest': 2, 'northeast': 3})\n",
    "\n",
    "for feature in ['age', 'bmi', 'children', 'region']:\n",
    "    x[feature] = (x[feature] - x[feature].mean()) / x[feature].std()\n",
    "    \n",
    "x.head()"
   ],
   "id": "325e5f0962337125",
   "outputs": [
    {
     "data": {
      "text/plain": [
       "        age  sex       bmi  children  smoker    region\n",
       "0 -1.438227    1 -0.453151 -0.908274       1 -1.343402\n",
       "1 -1.509401    0  0.509431 -0.078738       0 -0.438331\n",
       "2 -0.797655    0  0.383164  1.580335       0 -0.438331\n",
       "3 -0.441782    0 -1.305043 -0.908274       0  0.466741\n",
       "4 -0.512957    0 -0.292447 -0.908274       0  0.466741"
      ],
      "text/html": [
       "<div>\n",
       "<style scoped>\n",
       "    .dataframe tbody tr th:only-of-type {\n",
       "        vertical-align: middle;\n",
       "    }\n",
       "\n",
       "    .dataframe tbody tr th {\n",
       "        vertical-align: top;\n",
       "    }\n",
       "\n",
       "    .dataframe thead th {\n",
       "        text-align: right;\n",
       "    }\n",
       "</style>\n",
       "<table border=\"1\" class=\"dataframe\">\n",
       "  <thead>\n",
       "    <tr style=\"text-align: right;\">\n",
       "      <th></th>\n",
       "      <th>age</th>\n",
       "      <th>sex</th>\n",
       "      <th>bmi</th>\n",
       "      <th>children</th>\n",
       "      <th>smoker</th>\n",
       "      <th>region</th>\n",
       "    </tr>\n",
       "  </thead>\n",
       "  <tbody>\n",
       "    <tr>\n",
       "      <th>0</th>\n",
       "      <td>-1.438227</td>\n",
       "      <td>1</td>\n",
       "      <td>-0.453151</td>\n",
       "      <td>-0.908274</td>\n",
       "      <td>1</td>\n",
       "      <td>-1.343402</td>\n",
       "    </tr>\n",
       "    <tr>\n",
       "      <th>1</th>\n",
       "      <td>-1.509401</td>\n",
       "      <td>0</td>\n",
       "      <td>0.509431</td>\n",
       "      <td>-0.078738</td>\n",
       "      <td>0</td>\n",
       "      <td>-0.438331</td>\n",
       "    </tr>\n",
       "    <tr>\n",
       "      <th>2</th>\n",
       "      <td>-0.797655</td>\n",
       "      <td>0</td>\n",
       "      <td>0.383164</td>\n",
       "      <td>1.580335</td>\n",
       "      <td>0</td>\n",
       "      <td>-0.438331</td>\n",
       "    </tr>\n",
       "    <tr>\n",
       "      <th>3</th>\n",
       "      <td>-0.441782</td>\n",
       "      <td>0</td>\n",
       "      <td>-1.305043</td>\n",
       "      <td>-0.908274</td>\n",
       "      <td>0</td>\n",
       "      <td>0.466741</td>\n",
       "    </tr>\n",
       "    <tr>\n",
       "      <th>4</th>\n",
       "      <td>-0.512957</td>\n",
       "      <td>0</td>\n",
       "      <td>-0.292447</td>\n",
       "      <td>-0.908274</td>\n",
       "      <td>0</td>\n",
       "      <td>0.466741</td>\n",
       "    </tr>\n",
       "  </tbody>\n",
       "</table>\n",
       "</div>"
      ]
     },
     "execution_count": 5,
     "metadata": {},
     "output_type": "execute_result"
    }
   ],
   "execution_count": 5
  },
  {
   "metadata": {},
   "cell_type": "markdown",
   "source": "##### Выполняем снижение размерности на основе МГК (мин уровень дисперсии 0.95)",
   "id": "e2efa53600d2b205"
  },
  {
   "metadata": {
    "ExecuteTime": {
     "end_time": "2024-11-14T18:24:23.809659Z",
     "start_time": "2024-11-14T18:24:23.786408Z"
    }
   },
   "cell_type": "code",
   "source": [
    "pca = PCA(n_components=0.98) # при 0.95 растет полиномиальная линейная модель \n",
    "x = pca.fit_transform(x)\n",
    "x_base = x"
   ],
   "id": "c2543144cb73694c",
   "outputs": [],
   "execution_count": 6
  },
  {
   "metadata": {},
   "cell_type": "markdown",
   "source": "##### Выполняем расширение базовых признаков за счет применения полиномиальной модели (степень = 3)",
   "id": "6cebc86e0364992c"
  },
  {
   "metadata": {
    "ExecuteTime": {
     "end_time": "2024-11-14T18:24:23.941653Z",
     "start_time": "2024-11-14T18:24:23.936066Z"
    }
   },
   "cell_type": "code",
   "source": [
    "poly = PolynomialFeatures(degree=3, include_bias=False)\n",
    "x_poly = poly.fit_transform(x_base)"
   ],
   "id": "38c4325126c0c602",
   "outputs": [],
   "execution_count": 7
  },
  {
   "metadata": {},
   "cell_type": "markdown",
   "source": "##### Разбиваем датасеты (базовый и расширенный) на 2 множества (обучающее и тестовое).",
   "id": "69b7b60ad6c6cd11"
  },
  {
   "metadata": {
    "ExecuteTime": {
     "end_time": "2024-11-14T18:24:23.985472Z",
     "start_time": "2024-11-14T18:24:23.979759Z"
    }
   },
   "cell_type": "code",
   "source": [
    "# Разделение базового набора данных на тренировочные и тестовые\n",
    "x_base_train, x_base_test, y_base_train, y_base_test = train_test_split(\n",
    "    x_base, y, test_size=0.3, shuffle=True\n",
    ")\n",
    "\n",
    "# Разделение расширенного набора данных на тренировочные и тестовые\n",
    "x_poly_train, x_poly_test, y_poly_train, y_poly_test = train_test_split(\n",
    "    x_poly, y, test_size=0.3, shuffle=True\n",
    ")"
   ],
   "id": "3b43bc91ef0aeb23",
   "outputs": [],
   "execution_count": 8
  },
  {
   "metadata": {},
   "cell_type": "markdown",
   "source": "##### Выполняем обучение линейной и полиномиальной моделей аналитическим методом - не используя готовое библиотечное решение.\n",
   "id": "fd27ff1a6ba0f3b5"
  },
  {
   "metadata": {
    "ExecuteTime": {
     "end_time": "2024-11-14T18:24:24.018743Z",
     "start_time": "2024-11-14T18:24:24.014251Z"
    }
   },
   "cell_type": "code",
   "source": [
    "def analytical_solution(x, y):\n",
    "    x = np.c_[np.ones(x.shape[0]), x] # Добавляем столбец единиц для учета интерсепта\n",
    "    theta = np.linalg.inv(x.T @ x) @ x.T @ y\n",
    "    return theta"
   ],
   "id": "ea7a251883e5769f",
   "outputs": [],
   "execution_count": 9
  },
  {
   "metadata": {
    "ExecuteTime": {
     "end_time": "2024-11-14T18:24:24.076517Z",
     "start_time": "2024-11-14T18:24:24.045169Z"
    }
   },
   "cell_type": "code",
   "source": [
    "# Обучение базовой модели\n",
    "linear_theta_base = analytical_solution(x_base_train, y_base_train)\n",
    "print(\"Коэффициенты базовой модели:\", linear_theta_base.flatten())\n",
    "\n",
    "# Обучение расширенной модели\n",
    "linear_theta_poly = analytical_solution(x_poly_train, y_poly_train)\n",
    "print(\"Коэффициенты расширенной модели:\", linear_theta_poly.flatten())"
   ],
   "id": "e297a15f4f77968c",
   "outputs": [
    {
     "name": "stdout",
     "output_type": "stream",
     "text": [
      "Коэффициенты базовой модели: [13016.44268723  2817.19196864  1996.52537112 -1744.2868112\n",
      "   447.81179575 -3945.45124815 23333.06197111]\n",
      "Коэффициенты расширенной модели: [ 4.48043970e+18 -1.51388413e+18  1.65182095e+18  1.82816065e+18\n",
      "  7.88432367e+16 -1.26394611e+18  8.00700095e+18  4.47582042e+15\n",
      "  1.10030746e+16 -4.13434689e+16 -2.96261439e+16  5.80420568e+17\n",
      " -2.01944443e+18  3.26475479e+15 -3.26775132e+16 -6.20232123e+15\n",
      "  9.23037867e+16 -6.96719431e+17  5.86628858e+16  5.34424082e+16\n",
      " -7.83736333e+17  6.11209602e+18 -1.30530487e+16  6.83480733e+17\n",
      " -1.66146860e+17 -9.09560914e+18  1.56357000e+18 -1.35946695e+19\n",
      "  8.46884255e+14 -2.28995766e+15  1.24651906e+15  3.68275258e+15\n",
      " -1.03012427e+17 -3.84117486e+16  1.57515319e+15 -4.44789082e+15\n",
      " -1.02187655e+16  2.75384802e+17  8.57341678e+15  1.65613161e+15\n",
      "  5.01493516e+15 -1.22706585e+17  1.12468948e+17  5.00559807e+15\n",
      " -2.65671441e+17  3.02371849e+16  3.56626066e+18 -3.07045013e+16\n",
      "  3.66450032e+18 -2.40618097e+14  9.67646254e+14  3.11729910e+15\n",
      " -8.65213534e+16 -2.61885551e+16 -5.24951790e+14 -6.55461447e+15\n",
      "  1.92035057e+17  1.49886498e+17 -9.75897674e+15  5.37017535e+17\n",
      "  1.19818436e+17 -7.37077189e+18 -2.97807257e+18  1.12632555e+18\n",
      " -9.88055669e+14 -2.04068991e+15  3.28140265e+16 -2.06311396e+17\n",
      " -1.01806683e+15  3.13990581e+16 -2.18434228e+17 -2.29025532e+17\n",
      "  3.61372331e+18 -1.05665538e+19 -2.68755964e+03  6.94332856e+03\n",
      " -1.93441195e+03 -8.25358976e+03 -1.71586953e+04  4.06997545e+04\n",
      "  6.15920133e+04  3.54974750e+04 -4.60128674e+04 -3.04317984e+04]\n"
     ]
    }
   ],
   "execution_count": 10
  },
  {
   "metadata": {},
   "cell_type": "markdown",
   "source": "##### Выполняем обучение линейной и полиномиальной моделей градиентным спуском - не используя готовое библиотечное решение.\n",
   "id": "6dbdd7a8bcb4a4df"
  },
  {
   "metadata": {
    "ExecuteTime": {
     "end_time": "2024-11-14T18:24:24.103015Z",
     "start_time": "2024-11-14T18:24:24.098683Z"
    }
   },
   "cell_type": "code",
   "source": [
    "def gradient_descent(x, y, learning_rate=0.01, iterations=1000):\n",
    "    m, n = x.shape\n",
    "    x = np.c_[np.ones(m), x]  # Добавляем столбец единиц для интерсепта\n",
    "    theta = np.zeros((n + 1,))  # Инициализация коэффициентов\n",
    "    for i in range(iterations):\n",
    "        predictions = x @ theta\n",
    "        error = predictions - y\n",
    "        theta -= (learning_rate / m) * (x.T @ error)\n",
    "    return theta"
   ],
   "id": "4e399c46f63c1c83",
   "outputs": [],
   "execution_count": 11
  },
  {
   "metadata": {
    "ExecuteTime": {
     "end_time": "2024-11-14T18:24:34.574894Z",
     "start_time": "2024-11-14T18:24:24.118539Z"
    }
   },
   "cell_type": "code",
   "source": [
    "# Обучение базовой модели\n",
    "gradient_theta_base = gradient_descent(x_base_train, y_base_train, learning_rate=0.0001, iterations=100000)\n",
    "print(\"Коэффициенты базовой модели:\", gradient_theta_base.flatten())\n",
    "\n",
    "# Обучение расширенной модели\n",
    "gradient_theta_poly = gradient_descent(x_poly_train, y_poly_train, learning_rate=0.0001, iterations=100000)\n",
    "print(\"Коэффициенты расширенной модели:\", gradient_theta_poly.flatten())"
   ],
   "id": "b6cca9b4ad0cf91b",
   "outputs": [
    {
     "name": "stdout",
     "output_type": "stream",
     "text": [
      "Коэффициенты базовой модели: [13037.4498376   2777.28598098  1968.76207493 -1694.55472632\n",
      "   432.07598114 -3560.38873663 18765.57320296]\n",
      "Коэффициенты расширенной модели: [ 8.85138825e+03  2.23010119e+03  1.70264962e+03 -1.02347839e+03\n",
      "  7.12714036e+02 -1.16398209e+03  7.00010209e+03  4.05149783e+02\n",
      "  3.38250104e+02 -2.39144029e+02 -7.48051913e+02 -1.35921444e+03\n",
      "  3.93764248e+03  8.77643600e+02  1.76139845e+02  2.35665635e+01\n",
      "  1.52981701e+02 -1.50416963e+03  1.00943470e+03  6.06558252e+02\n",
      " -1.25624635e+02 -1.36423623e+03  6.86300046e+02 -8.36676224e+02\n",
      "  3.43716469e+03  2.55431041e+03 -1.39139970e+03  5.20188900e+03\n",
      "  4.16721248e-01  3.47232608e+02 -4.37490784e+01 -3.22541321e+02\n",
      " -4.24983495e+02  2.55148509e+03  5.59716701e+02  1.59161293e+00\n",
      " -1.08327216e+02  2.78743662e+02  1.05611715e+02 -3.80341329e+02\n",
      "  3.64830432e+02 -5.26318306e+02  4.56693251e+02 -4.65313641e+02\n",
      "  1.51407514e+01 -1.27698097e+03  8.33214033e+02 -1.08151090e+03\n",
      "  2.50269700e+03  5.04436966e+01 -5.12328150e+02 -4.28387559e+02\n",
      " -7.43198761e+02  2.59916124e+03 -2.57331722e+02 -4.29569850e+02\n",
      " -3.03799256e+02 -3.87155838e+02  3.25713505e+02 -2.08034976e+02\n",
      "  2.08983947e+02  4.62358289e+02 -4.91682042e+01 -6.38294551e+02\n",
      " -1.14640315e+02  4.80309015e+02  7.50108771e+01  2.18685636e+03\n",
      " -1.77132973e+02  1.13589354e+01  2.85399265e+02 -1.77660195e+02\n",
      " -1.53926719e+02 -1.06137360e+03 -2.00795321e+02 -3.18490102e+02\n",
      "  2.14727200e+03  1.68197099e+02 -1.41871215e+02  2.16307611e+03\n",
      " -8.75548263e+02  1.87688849e+03 -6.31795130e+02  4.15643862e+03]\n"
     ]
    }
   ],
   "execution_count": 12
  },
  {
   "metadata": {
    "ExecuteTime": {
     "end_time": "2024-11-14T18:24:34.617733Z",
     "start_time": "2024-11-14T18:24:34.602531Z"
    }
   },
   "cell_type": "code",
   "source": [
    "def predict(x, theta):\n",
    "    x = np.c_[np.ones(x.shape[0]), x]  # Добавляем столбец единиц для интерсепта, если его нет\n",
    "    return x @ theta\n",
    "\n",
    "# Предсказания для базовой модели\n",
    "y_base_pred_linear = predict(x_base_test, linear_theta_base)\n",
    "y_base_pred_gradient = predict(x_base_test, gradient_theta_base)\n",
    "\n",
    "# Предсказания для полиномиальной модели\n",
    "y_poly_pred_linear = predict(x_poly_test, linear_theta_poly)\n",
    "y_poly_pred_gradient = predict(x_poly_test, gradient_theta_poly)\n",
    "\n",
    "print(\"Метрики для базовой модели (Linear):\")\n",
    "print(f\"MAE : {mean_absolute_error(y_base_test, y_base_pred_linear):.3f}\")\n",
    "print(f\"MSE : {mean_squared_error(y_base_test, y_base_pred_linear):.3f}\")\n",
    "print(f\"R²  : {r2_score(y_base_test, y_base_pred_linear):.3f}\")\n",
    "\n",
    "print(\"\\nМетрики для полиномиальной модели (Linear):\")\n",
    "print(f\"MAE : {mean_absolute_error(y_poly_test, y_poly_pred_linear):.3f}\")\n",
    "print(f\"MSE : {mean_squared_error(y_poly_test, y_poly_pred_linear):.3f}\")\n",
    "print(f\"R²  : {r2_score(y_poly_test, y_poly_pred_linear):.3f}\")\n",
    "\n",
    "print(\"\\nМетрики для базовой модели (Gradient):\")\n",
    "print(f\"MAE : {mean_absolute_error(y_base_test, y_base_pred_gradient):.3f}\")\n",
    "print(f\"MSE : {mean_squared_error(y_base_test, y_base_pred_gradient):.3f}\")\n",
    "print(f\"R²  : {r2_score(y_base_test, y_base_pred_gradient):.3f}\")\n",
    "\n",
    "print(\"\\nМетрики для полиномиальной модели (Gradient):\")\n",
    "print(f\"MAE : {mean_absolute_error(y_poly_test, y_poly_pred_gradient):.3f}\")\n",
    "print(f\"MSE : {mean_squared_error(y_poly_test, y_poly_pred_gradient):.3f}\")\n",
    "print(f\"R²  : {r2_score(y_poly_test, y_poly_pred_gradient):.3f}\")"
   ],
   "id": "34a485cfcc03c02f",
   "outputs": [
    {
     "name": "stdout",
     "output_type": "stream",
     "text": [
      "Метрики для базовой модели (Linear):\n",
      "MAE : 4626.667\n",
      "MSE : 46572520.118\n",
      "R²  : 0.716\n",
      "\n",
      "Метрики для полиномиальной модели (Linear):\n",
      "MAE : 24200.550\n",
      "MSE : 1112706882.143\n",
      "R²  : -6.813\n",
      "\n",
      "Метрики для базовой модели (Gradient):\n",
      "MAE : 4994.318\n",
      "MSE : 50798276.181\n",
      "R²  : 0.691\n",
      "\n",
      "Метрики для полиномиальной модели (Gradient):\n",
      "MAE : 3542.239\n",
      "MSE : 32325540.171\n",
      "R²  : 0.773\n"
     ]
    }
   ],
   "execution_count": 13
  }
 ],
 "metadata": {
  "kernelspec": {
   "display_name": "Python 3",
   "language": "python",
   "name": "python3"
  },
  "language_info": {
   "codemirror_mode": {
    "name": "ipython",
    "version": 2
   },
   "file_extension": ".py",
   "mimetype": "text/x-python",
   "name": "python",
   "nbconvert_exporter": "python",
   "pygments_lexer": "ipython2",
   "version": "2.7.6"
  }
 },
 "nbformat": 4,
 "nbformat_minor": 5
}
